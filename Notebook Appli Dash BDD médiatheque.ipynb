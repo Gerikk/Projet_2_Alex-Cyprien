{
 "cells": [
  {
   "cell_type": "code",
   "execution_count": 1,
   "metadata": {},
   "outputs": [],
   "source": [
    "#Import des librairies\n",
    "import dash\n",
    "import dash_table\n",
    "from dash.dependencies import Input, Output\n",
    "import dash_core_components as dcc\n",
    "import dash_html_components as html\n",
    "import requests\n",
    "from pandas.io.json import json_normalize\n",
    "import pandas as pd\n",
    "from sqlalchemy import create_engine\n",
    "import os,configparser"
   ]
  },
  {
   "cell_type": "code",
   "execution_count": 2,
   "metadata": {},
   "outputs": [
    {
     "name": "stdout",
     "output_type": "stream",
     "text": [
      "['myBDD', 'pgBDD', 'mongoBDD']\n"
     ]
    }
   ],
   "source": [
    "#Mise en place des coordonnées de la base\n",
    "config = configparser.ConfigParser()\n",
    "config.read_file(open(os.path.expanduser(\"~/.datalab.cnf\")))\n",
    "print(config.sections())\n",
    "\n",
    "#Chargement des données\n",
    "BDD = \"Media_alex_cyp\"\n",
    "\n",
    "engine = create_engine(\"mysql://%s:%s@%s/%s\" % (config['myBDD']['user'], config['myBDD']['password'], config['myBDD']['host'], BDD))\n",
    "\n",
    "df = pd.read_sql(sql='SELECT * FROM Main_media', con=engine)\n",
    "#Nettoyage des données\n",
    "df.rename({'FilmRef':'Ref','Film_Nom':'Titre','Film_Ann':'Année','FR_nom':'Réalisateur','FP_nom':'Producteur', 'FS_nom':'Studio'}, axis=1, inplace=True)\n",
    "if (True):\n",
    "    df.replace('S:\\s*', '', inplace=True, regex=True)\n",
    "    df.replace('SU:\\s*', '', inplace=True, regex=True)\n",
    "    df.replace('PU:\\s*', '', inplace=True, regex=True)\n",
    "    df.replace('PN:\\s*', '', inplace=True, regex=True)\n",
    "    df.replace('D:\\s*', '', inplace=True, regex=True)\n",
    "    df.replace('P:\\s*', '', inplace=True, regex=True)\n",
    "    df.replace('St:\\s*', '', inplace=True, regex=True)"
   ]
  },
  {
   "cell_type": "code",
   "execution_count": 3,
   "metadata": {},
   "outputs": [],
   "source": [
    "#Style sheet Application\n",
    "external_stylesheets = ['https://codepen.io/chriddyp/pen/bWLwgP.css']\n",
    "\n",
    "app = dash.Dash(__name__, external_stylesheets=external_stylesheets)\n"
   ]
  },
  {
   "cell_type": "code",
   "execution_count": 4,
   "metadata": {},
   "outputs": [],
   "source": [
    "app.layout = html.Div([   \n",
    "    \n",
    "# Titre de l'application\n",
    "    html.H1(\n",
    "        children=\"Films de la médiathèque\",\n",
    "        style={'textAlign': 'center'}\n",
    "    ),      \n",
    "\n",
    "# Slider années\n",
    "     html.Br(),\n",
    "     html.Hr(),\n",
    "     html.Label('Choix de la période', style={'fontSize': 25, 'marginTop': 40, 'textAlign':'center'}),\n",
    "     dcc.RangeSlider(\n",
    "        id='input-years',\n",
    "        min=df['Année'].min(),\n",
    "        max=df['Année'].max(),\n",
    "        value=[df['Année'].min(), df['Année'].max()],\n",
    "        \n",
    "        #Création des marqueurs du slider\n",
    "        marks={\n",
    "        1891: {'label': '1891','style': {'color': 'black'}},\n",
    "        1900: {'label': '1900','style': {'color': 'black'}},\n",
    "        1910: {'label': '1910','style': {'color': 'black'}},\n",
    "        1920: {'label': '1920','style': {'color': 'black'}},\n",
    "        1930: {'label': '1930','style': {'color': 'black'}},\n",
    "        1940: {'label': '1940','style': {'color': 'black'}},\n",
    "        1950: {'label': '1950','style': {'color': 'black'}},\n",
    "        1960: {'label': '1960','style': {'color': 'black'}},\n",
    "        1970: {'label': '1970','style': {'color': 'black'}},\n",
    "        1980: {'label': '1980','style': {'color': 'black'}},\n",
    "        1990: {'label': '1980','style': {'color': 'black'}},\n",
    "        2000: {'label': '2000','style': {'color': 'black'}}\n",
    "        },\n",
    "        \n",
    "        step=None\n",
    "        ),\n",
    "             \n",
    "    html.Br(),\n",
    "    html.Br(),\n",
    "    html.Div(id='output-years'),\n",
    "    \n",
    "# Affichage de la table de recherche\n",
    "    html.Br(),\n",
    "    html.Hr(),\n",
    "    html.Label('Table de recherche', style={'fontSize': 25, 'marginTop': 40}\n",
    "    ),\n",
    "    \n",
    "    html.Br(),\n",
    "    html.Hr(),\n",
    "    html.Div(id='output-table'),\n",
    "    \n",
    "                     \n",
    "            \n",
    "])\n"
   ]
  },
  {
   "cell_type": "code",
   "execution_count": 5,
   "metadata": {},
   "outputs": [],
   "source": [
    "# Mise en place de l'interactivité\n",
    "    #Slider années modifiable\n",
    "@app.callback(Output('output-years', 'children'), # LIRE : \"ma sortie à modifier est 'output-years' (identifiant de la 'Div html') et concerne la propriété 'children'\n",
    "              [Input('input-years', 'value')]) # LIRE : \"mon entrée à utiliser est 'input-years' (identifiant du SliderRange) et concerne la propriété 'value'\n",
    "def update_years(input):\n",
    "    return u'Période sélectionnée : {}'.format(input)   \n",
    "\n",
    "# Table dynamique\n",
    "@app.callback(Output('output-table', 'children'),\n",
    "              [Input('input-years', 'value')])\n",
    "def update_table(years):\n",
    "    # Création d'une nouvelle dataframe (dff) qui est la mise à jour de la dataframe initiale (df) selon les paramètres utilisateurs\n",
    "    dff = df[(df['Année'] >= years[0]) & (df['Année'] <= years[1])]\n",
    "    table = html.Div([\n",
    "            dash_table.DataTable(\n",
    "                data=dff.to_dict('rows'),\n",
    "                columns=[{'name': i, 'id': i} for i in dff.columns],\n",
    "                editable=True,\n",
    "                filtering=False,\n",
    "                sorting=True,\n",
    "                sorting_type=\"multi\",\n",
    "                row_selectable=\"multi\",\n",
    "                row_deletable=False,\n",
    "                pagination_mode=\"fe\",\n",
    "                pagination_settings={\n",
    "                        \"current_page\": 0,\n",
    "                        \"page_size\": 20}\n",
    "                )\n",
    "            ])\n",
    "    return table\n"
   ]
  },
  {
   "cell_type": "code",
   "execution_count": 7,
   "metadata": {},
   "outputs": [
    {
     "name": "stdout",
     "output_type": "stream",
     "text": [
      "Running on http://127.0.0.1:8050/\n",
      "Debugger PIN: 493-968-101\n",
      " * Serving Flask app \"__main__\" (lazy loading)\n",
      " * Environment: production\n",
      "   WARNING: This is a development server. Do not use it in a production deployment.\n",
      "   Use a production WSGI server instead.\n",
      " * Debug mode: on\n"
     ]
    },
    {
     "ename": "SystemExit",
     "evalue": "1",
     "output_type": "error",
     "traceback": [
      "An exception has occurred, use %tb to see the full traceback.\n",
      "\u001b[0;31mSystemExit\u001b[0m\u001b[0;31m:\u001b[0m 1\n"
     ]
    },
    {
     "name": "stderr",
     "output_type": "stream",
     "text": [
      "/home/moi/anaconda3/lib/python3.6/site-packages/IPython/core/interactiveshell.py:2889: UserWarning:\n",
      "\n",
      "To exit: use 'exit', 'quit', or Ctrl-D.\n",
      "\n"
     ]
    }
   ],
   "source": [
    "#Lancement de l'application\n",
    "if __name__ == '__main__':\n",
    "    app.run_server(debug=True)"
   ]
  },
  {
   "cell_type": "code",
   "execution_count": null,
   "metadata": {},
   "outputs": [],
   "source": []
  }
 ],
 "metadata": {
  "kernelspec": {
   "display_name": "Python 3",
   "language": "python",
   "name": "python3"
  },
  "language_info": {
   "codemirror_mode": {
    "name": "ipython",
    "version": 3
   },
   "file_extension": ".py",
   "mimetype": "text/x-python",
   "name": "python",
   "nbconvert_exporter": "python",
   "pygments_lexer": "ipython3",
   "version": "3.6.6"
  },
  "toc": {
   "base_numbering": 1,
   "nav_menu": {},
   "number_sections": true,
   "sideBar": true,
   "skip_h1_title": false,
   "title_cell": "Table of Contents",
   "title_sidebar": "Contents",
   "toc_cell": false,
   "toc_position": {},
   "toc_section_display": true,
   "toc_window_display": false
  }
 },
 "nbformat": 4,
 "nbformat_minor": 2
}
